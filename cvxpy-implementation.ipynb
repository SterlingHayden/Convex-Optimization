{
  "nbformat": 4,
  "nbformat_minor": 0,
  "metadata": {
    "colab": {
      "provenance": [],
      "collapsed_sections": [
        "XV9nzgcUHPZS",
        "AcnIJQGvHXXp",
        "TOQ-sADcIqSu",
        "xcM_ILemd40z"
      ],
      "authorship_tag": "ABX9TyMKeM7wxiAqRAr0znuhH2fL",
      "include_colab_link": true
    },
    "kernelspec": {
      "name": "python3",
      "display_name": "Python 3"
    },
    "language_info": {
      "name": "python"
    }
  },
  "cells": [
    {
      "cell_type": "markdown",
      "metadata": {
        "id": "view-in-github",
        "colab_type": "text"
      },
      "source": [
        "<a href=\"https://colab.research.google.com/github/SterlingHayden/Convex-Optimization/blob/main/cvxpy-implementation.ipynb\" target=\"_parent\"><img src=\"https://colab.research.google.com/assets/colab-badge.svg\" alt=\"Open In Colab\"/></a>"
      ]
    },
    {
      "cell_type": "markdown",
      "source": [
        "Sterling Hayden  \n",
        "DASC 3203: Optimization Methods in Data Science\n",
        "Homework 6"
      ],
      "metadata": {
        "id": "8-bhcBCLHF9i"
      }
    },
    {
      "cell_type": "code",
      "source": [
        "import numpy as np\n",
        "import cvxpy as cp\n",
        "import matplotlib.pyplot as plt\n",
        "import matplotlib.cm as cm\n",
        "import sympy as sym"
      ],
      "metadata": {
        "id": "GcadIwzRH_6z"
      },
      "execution_count": null,
      "outputs": []
    },
    {
      "cell_type": "markdown",
      "source": [
        "## Question 1"
      ],
      "metadata": {
        "id": "XV9nzgcUHPZS"
      }
    },
    {
      "cell_type": "code",
      "execution_count": null,
      "metadata": {
        "id": "2XnKyIF5G4WR"
      },
      "outputs": [],
      "source": [
        "# m = 25 data points\n",
        "# n = 2 features\n",
        "X = np.array([[2,50],[8,110],[11,120],[10,550],[8,295],[4,200],[2,375],[2,52],[9,100],[8,300],[4,412],[11,400],[12,500],[2,360],[4,205],[4,400],[20,600],[1,585],[10,540],[15,250],[15,290],[16,510],[17,590],[6,100],[5,400]])\n",
        "col_min = np.min(X, axis=0)\n",
        "col_max = np.max(X, axis=0)\n",
        "X = (X - col_min)/(col_max - col_min)\n",
        "y = np.array([9.95, 24.45, 31.75, 35.00, 25.02, 16.86, 14.38, 9.60, 24.35, 27.50, 17.08, 37.00, 41.95, 11.66, 26.65, 17.89, 69.00, 10.30, 34.93, 46.59, 44.88, 54.12, 56.63, 22.13, 21.15])\n",
        "# ^^^^^^^^^^^^^^Do i need to standerdize y?^^^^^^^^^^\n",
        "e = np.ones(len(X))"
      ]
    },
    {
      "cell_type": "code",
      "source": [
        "print(X)\n",
        "print(y)"
      ],
      "metadata": {
        "colab": {
          "base_uri": "https://localhost:8080/"
        },
        "id": "ZFx0c6R2HE-k",
        "outputId": "42ac1e01-4027-43c9-a276-a2c683f34224"
      },
      "execution_count": null,
      "outputs": [
        {
          "output_type": "stream",
          "name": "stdout",
          "text": [
            "[[0.05263158 0.        ]\n",
            " [0.36842105 0.10909091]\n",
            " [0.52631579 0.12727273]\n",
            " [0.47368421 0.90909091]\n",
            " [0.36842105 0.44545455]\n",
            " [0.15789474 0.27272727]\n",
            " [0.05263158 0.59090909]\n",
            " [0.05263158 0.00363636]\n",
            " [0.42105263 0.09090909]\n",
            " [0.36842105 0.45454545]\n",
            " [0.15789474 0.65818182]\n",
            " [0.52631579 0.63636364]\n",
            " [0.57894737 0.81818182]\n",
            " [0.05263158 0.56363636]\n",
            " [0.15789474 0.28181818]\n",
            " [0.15789474 0.63636364]\n",
            " [1.         1.        ]\n",
            " [0.         0.97272727]\n",
            " [0.47368421 0.89090909]\n",
            " [0.73684211 0.36363636]\n",
            " [0.73684211 0.43636364]\n",
            " [0.78947368 0.83636364]\n",
            " [0.84210526 0.98181818]\n",
            " [0.26315789 0.09090909]\n",
            " [0.21052632 0.63636364]]\n",
            "[ 9.95 24.45 31.75 35.   25.02 16.86 14.38  9.6  24.35 27.5  17.08 37.\n",
            " 41.95 11.66 26.65 17.89 69.   10.3  34.93 46.59 44.88 54.12 56.63 22.13\n",
            " 21.15]\n"
          ]
        }
      ]
    },
    {
      "cell_type": "code",
      "source": [
        "# Variables\n",
        "b = cp.Variable()\n",
        "beta = cp.Variable(2)"
      ],
      "metadata": {
        "id": "4kuHz98sKp7z"
      },
      "execution_count": null,
      "outputs": []
    },
    {
      "cell_type": "code",
      "source": [
        "lambdas = [0.001, 0.01, 0.1, 1, 10, 100, 1000, 10000]\n",
        "LambdaBeta_values = np.zeros((len(lambdas), 2))\n",
        "\n",
        "for i, lambd in enumerate(lambdas):\n",
        "    obj =  cp.Minimize(cp.sum_squares(b*e - X@beta - y) + lambd*cp.norm(beta,1))\n",
        "    #obj =  cp.Minimize(cp.sum_squares(b*e - X@beta - y) + lambd*cp.norm(beta))\n",
        "    prob = cp.Problem(obj)\n",
        "    prob.solve()\n",
        "    LambdaBeta_values[i, :] = beta.value"
      ],
      "metadata": {
        "id": "yJzLjg4T_EtW"
      },
      "execution_count": null,
      "outputs": []
    },
    {
      "cell_type": "code",
      "source": [
        "LambdaBeta_values"
      ],
      "metadata": {
        "colab": {
          "base_uri": "https://localhost:8080/"
        },
        "id": "pZdGgGOEDB2b",
        "outputId": "3c1cd156-2b01-4c76-c6ad-1de0eb14ca41"
      },
      "execution_count": null,
      "outputs": [
        {
          "output_type": "execute_result",
          "data": {
            "text/plain": [
              "array([[-5.16957492e+01, -6.58930310e+00],\n",
              "       [-5.16939247e+01, -6.58815645e+00],\n",
              "       [-5.16756792e+01, -6.57668993e+00],\n",
              "       [-5.14932248e+01, -6.46202481e+00],\n",
              "       [-4.96686803e+01, -5.31537360e+00],\n",
              "       [-2.87359007e+01,  5.20340333e-22],\n",
              "       [ 5.77001706e-20,  7.77126255e-20],\n",
              "       [ 5.68051987e-18,  7.63703128e-18]])"
            ]
          },
          "metadata": {},
          "execution_count": 28
        }
      ]
    },
    {
      "cell_type": "code",
      "source": [
        "print(LambdaBeta_values.shape)\n",
        "print(len(lambdas))"
      ],
      "metadata": {
        "colab": {
          "base_uri": "https://localhost:8080/"
        },
        "id": "gcLN_V0LFs7t",
        "outputId": "4564281b-f4ee-4797-aedb-a687efdf0296"
      },
      "execution_count": null,
      "outputs": [
        {
          "output_type": "stream",
          "name": "stdout",
          "text": [
            "(8, 2)\n",
            "8\n"
          ]
        }
      ]
    },
    {
      "cell_type": "code",
      "source": [
        "fig, ax = plt.subplots()\n",
        "for i in range(len(lambdas)):\n",
        "    ax.plot(lambdas, LambdaBeta_values)\n",
        "ax.set_xlabel('Lambda Values')\n",
        "ax.set_ylabel('Coefficient Values')\n",
        "ax.set_title('How Lambda Effects Beta[i]')\n",
        "plt.show()\n",
        "\n"
      ],
      "metadata": {
        "colab": {
          "base_uri": "https://localhost:8080/"
        },
        "id": "5WuB6FRsD3U4",
        "outputId": "7ce5755f-a029-4572-9965-e8dda78080c3"
      },
      "execution_count": null,
      "outputs": [
        {
          "output_type": "display_data",
          "data": {
            "text/plain": [
              "<Figure size 640x480 with 1 Axes>"
            ],
            "image/png": "[encoded data removed]"
          },
          "metadata": {}
        }
      ]
    },
    {
      "cell_type": "markdown",
      "source": [
        "The red line represents beta[2] and the the blue line represents beta[1].   \n",
        "beta[1] moves to 0 slower than beta[2], thus we can infer that beta[1] is the more important feature.  \n",
        "Once lambda gets to be around 1000 all beta values are roughly 0."
      ],
      "metadata": {
        "id": "2298FC5CVTHA"
      }
    },
    {
      "cell_type": "markdown",
      "source": [
        "## Question 2"
      ],
      "metadata": {
        "id": "AcnIJQGvHXXp"
      }
    },
    {
      "cell_type": "code",
      "source": [
        "# f()\n",
        "def f(z1, z2):\n",
        "  return np.maximum(np.abs(z1), np.abs(z2))\n",
        "\n",
        "# g()\n",
        "def g(z1, z2):\n",
        "  return np.log(np.exp(np.abs(z1)) + np.exp(np.abs(z2)))\n",
        "\n",
        "# create z1 and z2\n",
        "z1 = np.arange(-10,10.1,.1)\n",
        "z2 = np.arange(-10,10.1,.1)\n",
        "\n",
        "# Fixes dimensionality issue\n",
        "z1, z2 = np.meshgrid(z1, z2)\n",
        "\n",
        "plt.contourf(z1, z2, f(z1,z2))\n",
        "plt.colorbar()\n",
        "plt.title(\"f()\")\n",
        "plt.show()\n",
        "plt.contourf(z1, z2, g(z1,z2))\n",
        "plt.colorbar()\n",
        "plt.title(\"g()\")\n",
        "plt.show()"
      ],
      "metadata": {
        "colab": {
          "base_uri": "https://localhost:8080/"
        },
        "id": "YYDFMDlSHaOg",
        "outputId": "dd0d2f9f-717f-421e-bd56-5c4e0c020042"
      },
      "execution_count": null,
      "outputs": [
        {
          "output_type": "display_data",
          "data": {
            "text/plain": [
              "<Figure size 640x480 with 2 Axes>"
            ],
            "image/png": "[encoded data removed]"
          },
          "metadata": {}
        },
        {
          "output_type": "display_data",
          "data": {
            "text/plain": [
              "<Figure size 640x480 with 2 Axes>"
            ],
            "image/png": "[encoded data removed]"
          },
          "metadata": {}
        }
      ]
    },
    {
      "cell_type": "markdown",
      "source": [
        "f(z1,z2) and g(z1,z2) have similar gradients, with f(z1,z2)'s gradient being squares and g(z1,z2)'s gradient being rounded out squares. On an interesting note, g(z1,z2) at its highest point is 12 vs f(z1,z2) at 10.5."
      ],
      "metadata": {
        "id": "L6zFVfVVV3um"
      }
    },
    {
      "cell_type": "markdown",
      "source": [
        "## Question 3"
      ],
      "metadata": {
        "id": "TOQ-sADcIqSu"
      }
    },
    {
      "cell_type": "code",
      "source": [
        "beta = cp.Variable(2)\n",
        "\n",
        "# is cp.sum correct?\n",
        "obj = cp.Minimize( cp.log_sum_exp( cp.abs(b*e + X@beta - y) ) )\n",
        "\n",
        "prob = cp.Problem(obj)\n",
        "prob.solve()"
      ],
      "metadata": {
        "colab": {
          "base_uri": "https://localhost:8080/"
        },
        "id": "g1Wx7pheIso8",
        "outputId": "66a14f4f-93cf-4fa2-c446-1ecfc26e7644"
      },
      "execution_count": null,
      "outputs": [
        {
          "output_type": "execute_result",
          "data": {
            "text/plain": [
              "8.084090404039605"
            ]
          },
          "metadata": {},
          "execution_count": 32
        }
      ]
    },
    {
      "cell_type": "code",
      "source": [
        "print(beta.value)\n",
        "print(b.value)"
      ],
      "metadata": {
        "colab": {
          "base_uri": "https://localhost:8080/"
        },
        "id": "p4jhwPv8ZocN",
        "outputId": "05ededfb-06e3-4bf7-8312-7a23bade0e55"
      },
      "execution_count": null,
      "outputs": [
        {
          "output_type": "stream",
          "name": "stdout",
          "text": [
            "[47.35692956  5.76423466]\n",
            "10.334085032534686\n"
          ]
        }
      ]
    },
    {
      "cell_type": "code",
      "source": [
        "residuals = y - (b.value + X @ beta.value)\n",
        "print(residuals)"
      ],
      "metadata": {
        "colab": {
          "base_uri": "https://localhost:8080/"
        },
        "id": "QrXQ17XBaDjE",
        "outputId": "890640fe-d3ed-4881-d709-7406e630c694"
      },
      "execution_count": null,
      "outputs": [
        {
          "output_type": "stream",
          "name": "stdout",
          "text": [
            "[-2.87655501 -3.96020047 -4.24241466 -3.00652815 -5.3290794  -2.52355896\n",
            " -1.85269367 -3.24751586 -6.44786618 -2.90148153 -4.52540941 -1.92693413\n",
            " -0.51744677 -4.41548727  7.21403891 -3.58964429  5.54475075 -5.64111329\n",
            " -2.97172388 -0.73475004 -2.8639671   1.57786906  0.75696495 -1.19045625\n",
            " -2.82211427]\n"
          ]
        }
      ]
    },
    {
      "cell_type": "code",
      "source": [
        "OLS = cp.Minimize(cp.sum_squares(b*e - X@beta - y))\n",
        "prob = cp.Problem(OLS)\n",
        "prob.solve()\n",
        "residuals = y - (b.value + X @ beta.value)\n",
        "print(residuals)"
      ],
      "metadata": {
        "colab": {
          "base_uri": "https://localhost:8080/"
        },
        "id": "Fa1ky47xNONV",
        "outputId": "fcc31925-4a41-4277-83da-3ee783083273"
      },
      "execution_count": null,
      "outputs": [
        {
          "output_type": "stream",
          "name": "stdout",
          "text": [
            "[  6.51262344  38.05650786  53.63883441  59.31973141  40.84295267\n",
            "  20.66142001  14.83637783   6.18658501  40.55753961  43.38285658\n",
            "  23.42134594  62.24345358  71.11237143  11.93666609  30.51132392\n",
            "  24.08757655 121.1271663   10.55150263  59.12992359  80.91969447\n",
            "  79.68892578  94.28553756 100.47483975  30.17502088  30.06841613]\n"
          ]
        }
      ]
    },
    {
      "cell_type": "markdown",
      "source": [
        "OLS has much larger residuals. We would want to use the other model in all instances as lower residuals equate to a better fit model."
      ],
      "metadata": {
        "id": "uCd5Im5W5MLW"
      }
    },
    {
      "cell_type": "markdown",
      "source": [
        "## Question 4\n",
        "####Convex"
      ],
      "metadata": {
        "id": "xcM_ILemd40z"
      }
    },
    {
      "cell_type": "code",
      "source": [
        "x1, x2, x3 = sym.symbols('x1 x2 x3')\n",
        "f = 2*x1 - x2 + 4*x3 - 5*x1**2 - 2*(x2-1)**2 - 4*(x3-1)**2 + 6*x1*x2 + 2*x1*x3\n",
        "\n",
        "hessian = sym.hessian(-f, (x1, x2, x3))\n",
        "hessian = np.array(hessian)\n",
        "print(hessian)\n",
        "p = np.array([2,-1,4])\n",
        "print(p)"
      ],
      "metadata": {
        "id": "kP_tqnOsd7QS",
        "outputId": "0b06b2a2-13a7-4665-f646-7e8e8dc1b7bd",
        "colab": {
          "base_uri": "https://localhost:8080/"
        }
      },
      "execution_count": null,
      "outputs": [
        {
          "output_type": "stream",
          "name": "stdout",
          "text": [
            "[[10 -6 -2]\n",
            " [-6 4 0]\n",
            " [-2 0 8]]\n",
            "[ 2 -1  4]\n"
          ]
        }
      ]
    },
    {
      "cell_type": "code",
      "source": [
        "#Build CVXPY model\n",
        "x = cp.Variable(3) # defines variables x[0] and x[1]\n",
        "obj = cp.Minimize(0.5*cp.quad_form(x,hessian) + p.T @ x) # use @ for matrix-matrix multiplication"
      ],
      "metadata": {
        "id": "fIMIamArB7Ry"
      },
      "execution_count": null,
      "outputs": []
    },
    {
      "cell_type": "code",
      "source": [
        "prob = cp.Problem(obj)\n",
        "prob.solve()\n",
        "print(\"Optimal Objective Value: \", prob.value)\n",
        "print(\"Optimal Solution: \", x.value)"
      ],
      "metadata": {
        "colab": {
          "base_uri": "https://localhost:8080/"
        },
        "id": "Pn2laXLOCWgN",
        "outputId": "af2106ce-7be4-434f-802d-608b74dd87da"
      },
      "execution_count": null,
      "outputs": [
        {
          "output_type": "stream",
          "name": "stdout",
          "text": [
            "Optimal Objective Value:  -3.3750000000000027\n",
            "Optimal Solution:  [-3.   -4.25 -1.25]\n"
          ]
        }
      ]
    },
    {
      "cell_type": "markdown",
      "source": [
        "## Question 5\n",
        "####Not Convex"
      ],
      "metadata": {
        "id": "XZVAlUeVFXEa"
      }
    },
    {
      "cell_type": "code",
      "source": [
        "x1, x2, x3 = sym.symbols('x1 x2 x3')\n",
        "f = 2*x1 - x2 + 4*x3 - 3*x1**2 - 2*(x2-1)**2 - 4*(x3-1)**2 + 6*x1*x2 + 2*x1*x3\n",
        "\n",
        "hessian = sym.hessian(-f, (x1, x2, x3))\n",
        "hessian = np.array(hessian)\n",
        "print(hessian)\n",
        "p = np.array([2,-1,4])\n",
        "print(p)"
      ],
      "metadata": {
        "id": "lXHg9GwqFWer",
        "colab": {
          "base_uri": "https://localhost:8080/"
        },
        "outputId": "461d982f-e1ed-4aa3-f013-f96918cf3e49"
      },
      "execution_count": null,
      "outputs": [
        {
          "output_type": "stream",
          "name": "stdout",
          "text": [
            "[[6 -6 -2]\n",
            " [-6 4 0]\n",
            " [-2 0 8]]\n",
            "[ 2 -1  4]\n"
          ]
        }
      ]
    },
    {
      "cell_type": "code",
      "source": [
        "#Build CVXPY model\n",
        "x = cp.Variable(3) # defines variables x[0] and x[1]\n",
        "obj = cp.Minimize(0.5*cp.quad_form(x,hessian) + p.T @ x) # use @ for matrix-matrix multiplication"
      ],
      "metadata": {
        "id": "Wfqgs8mQDu_p"
      },
      "execution_count": null,
      "outputs": []
    },
    {
      "cell_type": "code",
      "source": [
        "prob = cp.Problem(obj)\n",
        "prob.solve()\n",
        "print(\"Optimal Objective Value: \", prob.value)\n",
        "print(\"Optimal Solution: \", x.value)"
      ],
      "metadata": {
        "colab": {
          "base_uri": "https://localhost:8080/",
          "height": 450
        },
        "id": "x0b8K-ZZDyrt",
        "outputId": "234a0659-8f1e-49b6-ef79-502ff16fe961"
      },
      "execution_count": null,
      "outputs": [
        {
          "output_type": "error",
          "ename": "DCPError",
          "evalue": "ignored",
          "traceback": [
            "\u001b[0;31m---------------------------------------------------------------------------\u001b[0m",
            "\u001b[0;31mDCPError\u001b[0m                                  Traceback (most recent call last)",
            "\u001b[0;32m<ipython-input-41-f871e18be0d5>\u001b[0m in \u001b[0;36m<cell line: 2>\u001b[0;34m()\u001b[0m\n\u001b[1;32m      1\u001b[0m \u001b[0mprob\u001b[0m \u001b[0;34m=\u001b[0m \u001b[0mcp\u001b[0m\u001b[0;34m.\u001b[0m\u001b[0mProblem\u001b[0m\u001b[0;34m(\u001b[0m\u001b[0mobj\u001b[0m\u001b[0;34m)\u001b[0m\u001b[0;34m\u001b[0m\u001b[0;34m\u001b[0m\u001b[0m\n\u001b[0;32m----> 2\u001b[0;31m \u001b[0mprob\u001b[0m\u001b[0;34m.\u001b[0m\u001b[0msolve\u001b[0m\u001b[0;34m(\u001b[0m\u001b[0;34m)\u001b[0m\u001b[0;34m\u001b[0m\u001b[0;34m\u001b[0m\u001b[0m\n\u001b[0m\u001b[1;32m      3\u001b[0m \u001b[0mprint\u001b[0m\u001b[0;34m(\u001b[0m\u001b[0;34m\"Optimal Objective Value: \"\u001b[0m\u001b[0;34m,\u001b[0m \u001b[0mprob\u001b[0m\u001b[0;34m.\u001b[0m\u001b[0mvalue\u001b[0m\u001b[0;34m)\u001b[0m\u001b[0;34m\u001b[0m\u001b[0;34m\u001b[0m\u001b[0m\n\u001b[1;32m      4\u001b[0m \u001b[0mprint\u001b[0m\u001b[0;34m(\u001b[0m\u001b[0;34m\"Optimal Solution: \"\u001b[0m\u001b[0;34m,\u001b[0m \u001b[0mx\u001b[0m\u001b[0;34m.\u001b[0m\u001b[0mvalue\u001b[0m\u001b[0;34m)\u001b[0m\u001b[0;34m\u001b[0m\u001b[0;34m\u001b[0m\u001b[0m\n",
            "\u001b[0;32m/usr/local/lib/python3.9/dist-packages/cvxpy/problems/problem.py\u001b[0m in \u001b[0;36msolve\u001b[0;34m(self, *args, **kwargs)\u001b[0m\n\u001b[1;32m    491\u001b[0m         \u001b[0;32melse\u001b[0m\u001b[0;34m:\u001b[0m\u001b[0;34m\u001b[0m\u001b[0;34m\u001b[0m\u001b[0m\n\u001b[1;32m    492\u001b[0m             \u001b[0msolve_func\u001b[0m \u001b[0;34m=\u001b[0m \u001b[0mProblem\u001b[0m\u001b[0;34m.\u001b[0m\u001b[0m_solve\u001b[0m\u001b[0;34m\u001b[0m\u001b[0;34m\u001b[0m\u001b[0m\n\u001b[0;32m--> 493\u001b[0;31m         \u001b[0;32mreturn\u001b[0m \u001b[0msolve_func\u001b[0m\u001b[0;34m(\u001b[0m\u001b[0mself\u001b[0m\u001b[0;34m,\u001b[0m \u001b[0;34m*\u001b[0m\u001b[0margs\u001b[0m\u001b[0;34m,\u001b[0m \u001b[0;34m**\u001b[0m\u001b[0mkwargs\u001b[0m\u001b[0;34m)\u001b[0m\u001b[0;34m\u001b[0m\u001b[0;34m\u001b[0m\u001b[0m\n\u001b[0m\u001b[1;32m    494\u001b[0m \u001b[0;34m\u001b[0m\u001b[0m\n\u001b[1;32m    495\u001b[0m     \u001b[0;34m@\u001b[0m\u001b[0mclassmethod\u001b[0m\u001b[0;34m\u001b[0m\u001b[0;34m\u001b[0m\u001b[0m\n",
            "\u001b[0;32m/usr/local/lib/python3.9/dist-packages/cvxpy/problems/problem.py\u001b[0m in \u001b[0;36m_solve\u001b[0;34m(self, solver, warm_start, verbose, gp, qcp, requires_grad, enforce_dpp, ignore_dpp, canon_backend, **kwargs)\u001b[0m\n\u001b[1;32m   1052\u001b[0m                 \u001b[0;32mreturn\u001b[0m \u001b[0mself\u001b[0m\u001b[0;34m.\u001b[0m\u001b[0mvalue\u001b[0m\u001b[0;34m\u001b[0m\u001b[0;34m\u001b[0m\u001b[0m\n\u001b[1;32m   1053\u001b[0m \u001b[0;34m\u001b[0m\u001b[0m\n\u001b[0;32m-> 1054\u001b[0;31m         data, solving_chain, inverse_data = self.get_problem_data(\n\u001b[0m\u001b[1;32m   1055\u001b[0m             \u001b[0msolver\u001b[0m\u001b[0;34m,\u001b[0m \u001b[0mgp\u001b[0m\u001b[0;34m,\u001b[0m \u001b[0menforce_dpp\u001b[0m\u001b[0;34m,\u001b[0m \u001b[0mignore_dpp\u001b[0m\u001b[0;34m,\u001b[0m \u001b[0mverbose\u001b[0m\u001b[0;34m,\u001b[0m \u001b[0mcanon_backend\u001b[0m\u001b[0;34m,\u001b[0m \u001b[0mkwargs\u001b[0m\u001b[0;34m\u001b[0m\u001b[0;34m\u001b[0m\u001b[0m\n\u001b[1;32m   1056\u001b[0m         )\n",
            "\u001b[0;32m/usr/local/lib/python3.9/dist-packages/cvxpy/problems/problem.py\u001b[0m in \u001b[0;36mget_problem_data\u001b[0;34m(self, solver, gp, enforce_dpp, ignore_dpp, verbose, canon_backend, solver_opts)\u001b[0m\n\u001b[1;32m    629\u001b[0m         \u001b[0;32mif\u001b[0m \u001b[0mkey\u001b[0m \u001b[0;34m!=\u001b[0m \u001b[0mself\u001b[0m\u001b[0;34m.\u001b[0m\u001b[0m_cache\u001b[0m\u001b[0;34m.\u001b[0m\u001b[0mkey\u001b[0m\u001b[0;34m:\u001b[0m\u001b[0;34m\u001b[0m\u001b[0;34m\u001b[0m\u001b[0m\n\u001b[1;32m    630\u001b[0m             \u001b[0mself\u001b[0m\u001b[0;34m.\u001b[0m\u001b[0m_cache\u001b[0m\u001b[0;34m.\u001b[0m\u001b[0minvalidate\u001b[0m\u001b[0;34m(\u001b[0m\u001b[0;34m)\u001b[0m\u001b[0;34m\u001b[0m\u001b[0;34m\u001b[0m\u001b[0m\n\u001b[0;32m--> 631\u001b[0;31m             solving_chain = self._construct_chain(\n\u001b[0m\u001b[1;32m    632\u001b[0m                 \u001b[0msolver\u001b[0m\u001b[0;34m=\u001b[0m\u001b[0msolver\u001b[0m\u001b[0;34m,\u001b[0m \u001b[0mgp\u001b[0m\u001b[0;34m=\u001b[0m\u001b[0mgp\u001b[0m\u001b[0;34m,\u001b[0m\u001b[0;34m\u001b[0m\u001b[0;34m\u001b[0m\u001b[0m\n\u001b[1;32m    633\u001b[0m                 \u001b[0menforce_dpp\u001b[0m\u001b[0;34m=\u001b[0m\u001b[0menforce_dpp\u001b[0m\u001b[0;34m,\u001b[0m\u001b[0;34m\u001b[0m\u001b[0;34m\u001b[0m\u001b[0m\n",
            "\u001b[0;32m/usr/local/lib/python3.9/dist-packages/cvxpy/problems/problem.py\u001b[0m in \u001b[0;36m_construct_chain\u001b[0;34m(self, solver, gp, enforce_dpp, ignore_dpp, canon_backend, solver_opts)\u001b[0m\n\u001b[1;32m    881\u001b[0m         \u001b[0mcandidate_solvers\u001b[0m \u001b[0;34m=\u001b[0m \u001b[0mself\u001b[0m\u001b[0;34m.\u001b[0m\u001b[0m_find_candidate_solvers\u001b[0m\u001b[0;34m(\u001b[0m\u001b[0msolver\u001b[0m\u001b[0;34m=\u001b[0m\u001b[0msolver\u001b[0m\u001b[0;34m,\u001b[0m \u001b[0mgp\u001b[0m\u001b[0;34m=\u001b[0m\u001b[0mgp\u001b[0m\u001b[0;34m)\u001b[0m\u001b[0;34m\u001b[0m\u001b[0;34m\u001b[0m\u001b[0m\n\u001b[1;32m    882\u001b[0m         \u001b[0mself\u001b[0m\u001b[0;34m.\u001b[0m\u001b[0m_sort_candidate_solvers\u001b[0m\u001b[0;34m(\u001b[0m\u001b[0mcandidate_solvers\u001b[0m\u001b[0;34m)\u001b[0m\u001b[0;34m\u001b[0m\u001b[0;34m\u001b[0m\u001b[0m\n\u001b[0;32m--> 883\u001b[0;31m         return construct_solving_chain(self, candidate_solvers, gp=gp,\n\u001b[0m\u001b[1;32m    884\u001b[0m                                        \u001b[0menforce_dpp\u001b[0m\u001b[0;34m=\u001b[0m\u001b[0menforce_dpp\u001b[0m\u001b[0;34m,\u001b[0m\u001b[0;34m\u001b[0m\u001b[0;34m\u001b[0m\u001b[0m\n\u001b[1;32m    885\u001b[0m                                        \u001b[0mignore_dpp\u001b[0m\u001b[0;34m=\u001b[0m\u001b[0mignore_dpp\u001b[0m\u001b[0;34m,\u001b[0m\u001b[0;34m\u001b[0m\u001b[0;34m\u001b[0m\u001b[0m\n",
            "\u001b[0;32m/usr/local/lib/python3.9/dist-packages/cvxpy/reductions/solvers/solving_chain.py\u001b[0m in \u001b[0;36mconstruct_solving_chain\u001b[0;34m(problem, candidates, gp, enforce_dpp, ignore_dpp, canon_backend, solver_opts)\u001b[0m\n\u001b[1;32m    182\u001b[0m     \u001b[0;32mif\u001b[0m \u001b[0mlen\u001b[0m\u001b[0;34m(\u001b[0m\u001b[0mproblem\u001b[0m\u001b[0;34m.\u001b[0m\u001b[0mvariables\u001b[0m\u001b[0;34m(\u001b[0m\u001b[0;34m)\u001b[0m\u001b[0;34m)\u001b[0m \u001b[0;34m==\u001b[0m \u001b[0;36m0\u001b[0m\u001b[0;34m:\u001b[0m\u001b[0;34m\u001b[0m\u001b[0;34m\u001b[0m\u001b[0m\n\u001b[1;32m    183\u001b[0m         \u001b[0;32mreturn\u001b[0m \u001b[0mSolvingChain\u001b[0m\u001b[0;34m(\u001b[0m\u001b[0mreductions\u001b[0m\u001b[0;34m=\u001b[0m\u001b[0;34m[\u001b[0m\u001b[0mConstantSolver\u001b[0m\u001b[0;34m(\u001b[0m\u001b[0;34m)\u001b[0m\u001b[0;34m]\u001b[0m\u001b[0;34m)\u001b[0m\u001b[0;34m\u001b[0m\u001b[0;34m\u001b[0m\u001b[0m\n\u001b[0;32m--> 184\u001b[0;31m     \u001b[0mreductions\u001b[0m \u001b[0;34m=\u001b[0m \u001b[0m_reductions_for_problem_class\u001b[0m\u001b[0;34m(\u001b[0m\u001b[0mproblem\u001b[0m\u001b[0;34m,\u001b[0m \u001b[0mcandidates\u001b[0m\u001b[0;34m,\u001b[0m \u001b[0mgp\u001b[0m\u001b[0;34m,\u001b[0m \u001b[0msolver_opts\u001b[0m\u001b[0;34m)\u001b[0m\u001b[0;34m\u001b[0m\u001b[0;34m\u001b[0m\u001b[0m\n\u001b[0m\u001b[1;32m    185\u001b[0m \u001b[0;34m\u001b[0m\u001b[0m\n\u001b[1;32m    186\u001b[0m     \u001b[0;31m# Process DPP status of the problem.\u001b[0m\u001b[0;34m\u001b[0m\u001b[0;34m\u001b[0m\u001b[0m\n",
            "\u001b[0;32m/usr/local/lib/python3.9/dist-packages/cvxpy/reductions/solvers/solving_chain.py\u001b[0m in \u001b[0;36m_reductions_for_problem_class\u001b[0;34m(problem, candidates, gp, solver_opts)\u001b[0m\n\u001b[1;32m    100\u001b[0m             append += (\"\\nHowever, the problem does follow DQCP rules. \"\n\u001b[1;32m    101\u001b[0m                        \"Consider calling solve() with `qcp=True`.\")\n\u001b[0;32m--> 102\u001b[0;31m         raise DCPError(\n\u001b[0m\u001b[1;32m    103\u001b[0m             \"Problem does not follow DCP rules. Specifically:\\n\" + append)\n\u001b[1;32m    104\u001b[0m     \u001b[0;32melif\u001b[0m \u001b[0mgp\u001b[0m \u001b[0;32mand\u001b[0m \u001b[0;32mnot\u001b[0m \u001b[0mproblem\u001b[0m\u001b[0;34m.\u001b[0m\u001b[0mis_dgp\u001b[0m\u001b[0;34m(\u001b[0m\u001b[0;34m)\u001b[0m\u001b[0;34m:\u001b[0m\u001b[0;34m\u001b[0m\u001b[0;34m\u001b[0m\u001b[0m\n",
            "\u001b[0;31mDCPError\u001b[0m: Problem does not follow DCP rules. Specifically:\nThe objective is not DCP. Its following subexpressions are not:\nQuadForm(var930, [[ 6. -6. -2.]\n [-6.  4.  0.]\n [-2.  0.  8.]])"
          ]
        }
      ]
    },
    {
      "cell_type": "markdown",
      "source": [
        "## Question 7"
      ],
      "metadata": {
        "id": "Q1n22JXiFgQ-"
      }
    },
    {
      "cell_type": "code",
      "source": [
        "x = cp.Variable(2, nonneg=True)\n",
        "obj = cp.Minimize(cp.xexp(x[0]) + 0.5*cp.xexp(x[1]))\n",
        "\n",
        "constraints = [cp.log(3*x[0] + 1) + 1.5*cp.log(2*x[1] + 1) >= 3, x[0] + 2*x[1] >= 3]"
      ],
      "metadata": {
        "id": "TIw_D9eTFger"
      },
      "execution_count": null,
      "outputs": []
    },
    {
      "cell_type": "code",
      "source": [
        "prob = cp.Problem(obj, constraints)\n",
        "prob.solve()\n",
        "print(\"Optimal Objective Value: \", prob.value)\n",
        "print(\"Optimal Solution: \", x.value)"
      ],
      "metadata": {
        "colab": {
          "base_uri": "https://localhost:8080/"
        },
        "id": "Jyg4kTsYMznL",
        "outputId": "79f51d6b-ad4b-4fa5-92be-bfd787ed6cc4"
      },
      "execution_count": null,
      "outputs": [
        {
          "output_type": "stream",
          "name": "stdout",
          "text": [
            "Optimal Objective Value:  3.521523964797268\n",
            "Optimal Solution:  [0.74951341 1.18435434]\n"
          ]
        }
      ]
    }
  ]
}