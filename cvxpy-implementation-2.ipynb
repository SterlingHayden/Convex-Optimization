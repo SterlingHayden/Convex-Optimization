{
  "nbformat": 4,
  "nbformat_minor": 0,
  "metadata": {
    "colab": {
      "provenance": [],
      "authorship_tag": "ABX9TyOGp7K2duzeq+L1uDB0rUHo",
      "include_colab_link": true
    },
    "kernelspec": {
      "name": "python3",
      "display_name": "Python 3"
    },
    "language_info": {
      "name": "python"
    }
  },
  "cells": [
    {
      "cell_type": "markdown",
      "metadata": {
        "id": "view-in-github",
        "colab_type": "text"
      },
      "source": [
        "<a href=\"https://colab.research.google.com/github/SterlingHayden/Convex-Optimization/blob/main/cvxpy-implementation-2.ipynb\" target=\"_parent\"><img src=\"https://colab.research.google.com/assets/colab-badge.svg\" alt=\"Open In Colab\"/></a>"
      ]
    },
    {
      "cell_type": "markdown",
      "source": [
        "#HW #7  \n",
        "Sterling Hayden"
      ],
      "metadata": {
        "id": "I6Mz7NVFhBk4"
      }
    },
    {
      "cell_type": "code",
      "source": [
        "import cvxpy as cp"
      ],
      "metadata": {
        "id": "kHHc-74PiA86"
      },
      "execution_count": null,
      "outputs": []
    },
    {
      "cell_type": "markdown",
      "source": [
        "## Question 2"
      ],
      "metadata": {
        "id": "QFAt3Us5hL8e"
      }
    },
    {
      "cell_type": "code",
      "execution_count": null,
      "metadata": {
        "colab": {
          "base_uri": "https://localhost:8080/"
        },
        "id": "YOxiNZMzg9cY",
        "outputId": "91beb5c1-95e2-4719-dcb7-922ffb647131"
      },
      "outputs": [
        {
          "output_type": "stream",
          "name": "stdout",
          "text": [
            "Optimal Objective Value:  0.03461438914614576\n",
            "Optimal Solution:  [2.23103096 1.256323  ]\n"
          ]
        }
      ],
      "source": [
        "x = cp.Variable(2, nonneg=True)\n",
        "obj = cp.Minimize(cp.exp(-2*x[0]) + cp.exp(-3*x[1]))\n",
        "\n",
        "constraints = [x[0] + 3*x[1] <= 6]\n",
        "\n",
        "prob = cp.Problem(obj, constraints)\n",
        "prob.solve()\n",
        "print(\"Optimal Objective Value: \", prob.value)\n",
        "print(\"Optimal Solution: \", x.value)"
      ]
    },
    {
      "cell_type": "markdown",
      "source": [
        "Verified that question 2 is convex. Same x1 and x2."
      ],
      "metadata": {
        "id": "TBV5pqSLiiD-"
      }
    },
    {
      "cell_type": "markdown",
      "source": [
        "## Question 4"
      ],
      "metadata": {
        "id": "i3FlWowLhRAF"
      }
    },
    {
      "cell_type": "code",
      "source": [
        "x = cp.Variable(2, nonneg=True)\n",
        "obj = cp.Maximize(10*x[0] - cp.power(x[0],2) + 30*x[1] - cp.power(x[1],3))\n",
        "\n",
        "constraints = [x[0] + x[1] <= 3]\n",
        "\n",
        "prob = cp.Problem(-obj, constraints)\n",
        "prob.solve()\n",
        "print(\"Optimal Objective Value: \", prob.value)\n",
        "print(\"Optimal Solution: \", x.value)"
      ],
      "metadata": {
        "colab": {
          "base_uri": "https://localhost:8080/"
        },
        "id": "Uld5JZz4hTJd",
        "outputId": "b2c27f80-da05-45d1-effd-e90183b399ab"
      },
      "execution_count": null,
      "outputs": [
        {
          "output_type": "stream",
          "name": "stdout",
          "text": [
            "Optimal Objective Value:  -64.27165614435698\n",
            "Optimal Solution:  [0.37055002 2.62944997]\n"
          ]
        }
      ]
    },
    {
      "cell_type": "markdown",
      "source": [
        "Verified that question 4 is convex. Same x1 and x2"
      ],
      "metadata": {
        "id": "Pmlq5fPpi3BL"
      }
    }
  ]
}