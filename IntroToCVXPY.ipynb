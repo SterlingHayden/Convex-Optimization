{
  "nbformat": 4,
  "nbformat_minor": 0,
  "metadata": {
    "colab": {
      "provenance": [],
      "include_colab_link": true
    },
    "kernelspec": {
      "name": "python3",
      "display_name": "Python 3"
    },
    "language_info": {
      "name": "python"
    }
  },
  "cells": [
    {
      "cell_type": "markdown",
      "metadata": {
        "id": "view-in-github",
        "colab_type": "text"
      },
      "source": [
        "<a href=\"https://colab.research.google.com/github/SterlingHayden/Convex-Optimization/blob/main/IntroToCVXPY.ipynb\" target=\"_parent\"><img src=\"https://colab.research.google.com/assets/colab-badge.svg\" alt=\"Open In Colab\"/></a>"
      ]
    },
    {
      "cell_type": "markdown",
      "source": [
        "# Lesson 10: Introduction to CVXPY\n",
        "\n",
        "---"
      ],
      "metadata": {
        "id": "mGcR2SJxS8jT"
      }
    },
    {
      "cell_type": "markdown",
      "source": [
        "## Objectives"
      ],
      "metadata": {
        "id": "LS1UKgTSTG1W"
      }
    },
    {
      "cell_type": "markdown",
      "source": [
        "Students will be skilled at\n",
        "\n",
        "1. identifying convex optimization models (using CVXPY)\n",
        "2. implementing and solving convex optimization models in CVXPY, and outputting/interpreting their results"
      ],
      "metadata": {
        "id": "CFUIyNw5TLWy"
      }
    },
    {
      "cell_type": "markdown",
      "source": [
        "## References"
      ],
      "metadata": {
        "id": "eSV7IxsiTvIH"
      }
    },
    {
      "cell_type": "markdown",
      "source": [
        "1. [CVXPY Documentation](https://www.cvxpy.org/)"
      ],
      "metadata": {
        "id": "KKuCBl7-TwyY"
      }
    },
    {
      "cell_type": "markdown",
      "source": [
        "## Overview of CVXPY"
      ],
      "metadata": {
        "id": "xiuqL1-ET9J8"
      }
    },
    {
      "cell_type": "markdown",
      "source": [
        "CVXPY is a Python-based, open source modeling language for convex optimization.  CVXPY is distributed with a number of open-source solvers, and it can also be [configured](https://www.cvxpy.org/tutorial/advanced/index.html#solve-method-options) to call other solvers (e.g., including CBC for solving LPs)."
      ],
      "metadata": {
        "id": "akLtLLj6T_BJ"
      }
    },
    {
      "cell_type": "markdown",
      "source": [
        "## Importing CVXPY"
      ],
      "metadata": {
        "id": "RRPKlnblVNYW"
      }
    },
    {
      "cell_type": "code",
      "execution_count": null,
      "metadata": {
        "id": "JCcMIiBVS7Rq"
      },
      "outputs": [],
      "source": [
        "import cvxpy as cp"
      ]
    },
    {
      "cell_type": "markdown",
      "source": [
        "## Example 1: Solving a Simple Convex Optimization Problem using CVXPY"
      ],
      "metadata": {
        "id": "MvfmKnLCVhEj"
      }
    },
    {
      "cell_type": "markdown",
      "source": [
        "### Statement of Optimization Model"
      ],
      "metadata": {
        "id": "oUwzwf9UsfQf"
      }
    },
    {
      "cell_type": "markdown",
      "source": [
        "$\\begin{align}\n",
        "\\min \\  &&& e^{x + 3y - 0.1} + e^{y - 3z - 0.1} + e^{-3x + z - 0.1} \\\\\n",
        "\\textrm{s.t.}\\ &&& 2x + y - 3z \\leq 0\\\\\n",
        "&&& x + y \\leq 1\\\\\n",
        "&&& x + y + z <= 2 \\\\\n",
        "&&& x, y, z \\geq 0\n",
        "\\end{align}$"
      ],
      "metadata": {
        "id": "gHyRGzq-Vnw_"
      }
    },
    {
      "cell_type": "markdown",
      "source": [
        "### Implement/Solve using CVXPY"
      ],
      "metadata": {
        "id": "R2CyWSX1p0ui"
      }
    },
    {
      "cell_type": "code",
      "source": [
        "x = cp.Variable(nonneg=True)\n",
        "y = cp.Variable(nonneg=True)\n",
        "z = cp.Variable(nonneg=True)"
      ],
      "metadata": {
        "id": "b_jLbbGyp1NH"
      },
      "execution_count": null,
      "outputs": []
    },
    {
      "cell_type": "code",
      "source": [
        "constraints = [2*x + y - 3*z <= 0, x + y <= 1, x + y + z <= 2]"
      ],
      "metadata": {
        "id": "5YHe6e5aoy7X"
      },
      "execution_count": null,
      "outputs": []
    },
    {
      "cell_type": "code",
      "source": [
        "obj = cp.Minimize(cp.exp(x + 3*y - 0.1) + cp.exp(y - 3*z - 0.1) + cp.exp(-3*x + z - 0.1))"
      ],
      "metadata": {
        "id": "9ZXSAzEMpE1v"
      },
      "execution_count": null,
      "outputs": []
    },
    {
      "cell_type": "code",
      "source": [
        "prob = cp.Problem(obj, constraints)\n",
        "prob.solve()"
      ],
      "metadata": {
        "colab": {
          "base_uri": "https://localhost:8080/"
        },
        "id": "gi7ahw-_papj",
        "outputId": "1c023a0a-5545-4522-e2f8-2408165c80f6"
      },
      "execution_count": null,
      "outputs": [
        {
          "output_type": "execute_result",
          "data": {
            "text/plain": [
              "1.9942498569434557"
            ]
          },
          "metadata": {},
          "execution_count": 5
        }
      ]
    },
    {
      "cell_type": "code",
      "source": [
        "print(\"status: \", prob.status)\n",
        "print(\"obj val: \", prob.value)\n",
        "print(\"optimal value of x: \", x.value)\n",
        "print(\"optimal value of y: \", y.value)\n",
        "print(\"optimal value of z: \", z.value)"
      ],
      "metadata": {
        "colab": {
          "base_uri": "https://localhost:8080/"
        },
        "id": "WqdgU0mjpunM",
        "outputId": "d8ab7bfd-443d-4c2b-f8af-980549c074e8"
      },
      "execution_count": null,
      "outputs": [
        {
          "output_type": "stream",
          "name": "stdout",
          "text": [
            "status:  optimal\n",
            "obj val:  1.9942498569434557\n",
            "optimal value of x:  0.42254318626506526\n",
            "optimal value of y:  0.0\n",
            "optimal value of z:  0.591560477593907\n"
          ]
        }
      ]
    },
    {
      "cell_type": "markdown",
      "source": [
        "## Example 2: Solving a (Convex) Quadratic Program using CVXPY"
      ],
      "metadata": {
        "id": "smU8BMKwZMId"
      }
    },
    {
      "cell_type": "markdown",
      "source": [
        "### Statement of Optimization Model"
      ],
      "metadata": {
        "id": "esVrAQPPgzWi"
      }
    },
    {
      "cell_type": "markdown",
      "source": [
        "$\\begin{align}\n",
        "\\min \\  &&& 2x_1^2 - 6x_1x_2 + 12.5x_2^2 + 3x_1 - 5x_2 \\\\\n",
        "\\textrm{s.t.}\\ &&& x_1 + x_2 \\geq 0.5\\\\\n",
        "&&& x_1 - 3x_2 \\leq 0\\\\\n",
        "&&& x_1, x_2 \\textrm{ unrestricted}\n",
        "\\end{align}$\n",
        "\n",
        "Note: We showed in Lesson 9 that this objective function is convex.  The constraints are linear (and therefore convex), so this is a convex optimization problem.\n"
      ],
      "metadata": {
        "id": "5WCbbnFXgHgJ"
      }
    },
    {
      "cell_type": "markdown",
      "source": [
        "### Implement/Solve using CVXPY (1st attempt)"
      ],
      "metadata": {
        "id": "Jzf8QKr-g4oM"
      }
    },
    {
      "cell_type": "code",
      "source": [
        "x = cp.Variable(2) # defines variables x[0] and x[1]\n",
        "obj = cp.Minimize(2*(x[0]**2) - 6*x[0]*x[1] + 12.5*(x[1]**2) + 3*x[0] - 5*x[1])"
      ],
      "metadata": {
        "id": "ZKwiQ82lhJkX"
      },
      "execution_count": null,
      "outputs": []
    },
    {
      "cell_type": "code",
      "source": [
        "constraints = [x[0] + x[1] >= 0.5, x[0] - 3*x[1] <= 0]"
      ],
      "metadata": {
        "id": "WVIKWKkRrLUP"
      },
      "execution_count": null,
      "outputs": []
    },
    {
      "cell_type": "code",
      "source": [
        "prob = cp.Problem(obj, constraints)\n",
        "#prob.solve()"
      ],
      "metadata": {
        "id": "tZWCudaArW7n"
      },
      "execution_count": null,
      "outputs": []
    },
    {
      "cell_type": "markdown",
      "source": [
        "The error \"DCPError: Problem does not follow DCP rules\" is telling us that CVXPY could not verify that the problem is a convex optimization problem.  This could be because:\n",
        "\n",
        "*   the problem is not convex\n",
        "*   the problem is convex, but CVXPY could not recognize it as convex\n",
        "\n",
        "In the latter case, it may be possible to use built-in CVXPY functions to formulate the problem in a way that enables CVXPY to recognize it as a convex optimization problem.\n"
      ],
      "metadata": {
        "id": "PWLwWRbfilAX"
      }
    },
    {
      "cell_type": "markdown",
      "source": [
        "### Implement/Solve using CVXPY (2nd attempt)"
      ],
      "metadata": {
        "id": "bu80d1j8hA4u"
      }
    },
    {
      "cell_type": "markdown",
      "source": [
        "This section solves an optimization problem represented in matrix form.  For this kind of problem, NumPy can be used to represent constants."
      ],
      "metadata": {
        "id": "_fwHWk58Z_s1"
      }
    },
    {
      "cell_type": "code",
      "source": [
        "import numpy as np"
      ],
      "metadata": {
        "id": "6pWDfw5FZ9LC"
      },
      "execution_count": null,
      "outputs": []
    },
    {
      "cell_type": "markdown",
      "source": [
        "Note that the objective can be rewritten as\n",
        "\\begin{align}\n",
        "  &&& \\frac{1}{2} x^TQx + p^Tx,\n",
        "\\end{align}\n",
        "where\n",
        "\\begin{equation}Q = \\left[ \\begin{array}{rr} 4 & -6\\\\ -6 & 25\\end{array} \\right], \\ p = \\left[\\begin{array}{r} 3 \\\\ -5 \\end{array} \\right], \\ x = \\left[\\begin{array}{r} x_1 \\\\ x_2 \\end{array} \\right].\\end{equation}\n",
        "\n",
        "That is, the objective is$\\ldots$\n",
        "\\begin{equation}\n",
        "\\frac{1}{2}[x_1, \\ x_2] \\left[ \\begin{array}{rr} 4 & -6\\\\ -6 & 25\\end{array} \\right] \\left[\\begin{array}{r} x_1 \\\\ x_2 \\end{array} \\right] + [3, \\ -5]\\left[\\begin{array}{r} x_1 \\\\ x_2 \\end{array} \\right]\n",
        "\\end{equation}"
      ],
      "metadata": {
        "id": "-8nrzy4whLcB"
      }
    },
    {
      "cell_type": "code",
      "source": [
        "# Define the matrix Q and vector p\n",
        "Q = np.array([[4, -6],[-6, 25]])\n",
        "p = np.array([3, -5])\n",
        "print(Q)\n",
        "print(p)"
      ],
      "metadata": {
        "id": "wCN3ZjE9x3ec",
        "colab": {
          "base_uri": "https://localhost:8080/"
        },
        "outputId": "4d5f4708-6357-473b-fb2a-55fad1fbdd71"
      },
      "execution_count": null,
      "outputs": [
        {
          "output_type": "stream",
          "name": "stdout",
          "text": [
            "[[ 4 -6]\n",
            " [-6 25]]\n",
            "[ 3 -5]\n"
          ]
        }
      ]
    },
    {
      "cell_type": "markdown",
      "source": [
        "We can define the model using [built-in CVXPY functions](https://www.cvxpy.org/tutorial/functions/index.html)."
      ],
      "metadata": {
        "id": "XH8xsvo5yBdI"
      }
    },
    {
      "cell_type": "code",
      "source": [
        "#Build CVXPY model\n",
        "x = cp.Variable(2) # defines variables x[0] and x[1]\n",
        "obj = cp.Minimize(0.5*cp.quad_form(x,Q) + p.T @ x) # use @ for matrix-matrix multiplication"
      ],
      "metadata": {
        "id": "2HyJyDe5WTt1"
      },
      "execution_count": null,
      "outputs": []
    },
    {
      "cell_type": "code",
      "source": [
        "constraints = [x[0] + x[1] >= 0.5, x[0] - 3*x[1] <= 0]"
      ],
      "metadata": {
        "id": "rnxddKqguR6j"
      },
      "execution_count": null,
      "outputs": []
    },
    {
      "cell_type": "code",
      "source": [
        "prob = cp.Problem(obj, constraints)\n",
        "prob.solve()"
      ],
      "metadata": {
        "colab": {
          "base_uri": "https://localhost:8080/"
        },
        "id": "YuNvFw7OuZEN",
        "outputId": "9b4c67d3-e297-40aa-cf73-10c5dc32f870"
      },
      "execution_count": null,
      "outputs": [
        {
          "output_type": "execute_result",
          "data": {
            "text/plain": [
              "-0.06097560975609739"
            ]
          },
          "metadata": {},
          "execution_count": 14
        }
      ]
    },
    {
      "cell_type": "code",
      "source": [
        "print(\"status: \", prob.status)\n",
        "print(\"optimal obj val: \", prob.value)\n",
        "print(\"optimal solution: \", x.value)"
      ],
      "metadata": {
        "colab": {
          "base_uri": "https://localhost:8080/"
        },
        "id": "ZiN6cGf8ueG6",
        "outputId": "5c02ab8b-b4d6-4ad7-9930-1af03cbed58a"
      },
      "execution_count": null,
      "outputs": [
        {
          "output_type": "stream",
          "name": "stdout",
          "text": [
            "status:  optimal\n",
            "optimal obj val:  -0.06097560975609739\n",
            "optimal solution:  [0.18292683 0.31707317]\n"
          ]
        }
      ]
    },
    {
      "cell_type": "code",
      "source": [
        "# useful commands for debugging model\n",
        "print(x.shape)\n",
        "print(Q.shape)"
      ],
      "metadata": {
        "colab": {
          "base_uri": "https://localhost:8080/"
        },
        "id": "W15RZs-gu-wf",
        "outputId": "aab2c145-eaa1-4878-dfaa-b1bff1929cd6"
      },
      "execution_count": null,
      "outputs": [
        {
          "output_type": "stream",
          "name": "stdout",
          "text": [
            "(2,)\n",
            "(2, 2)\n"
          ]
        }
      ]
    },
    {
      "cell_type": "markdown",
      "source": [
        "## Example 3: A Non-Convex Quadratic Program"
      ],
      "metadata": {
        "id": "n1M0qU-bs0Q6"
      }
    },
    {
      "cell_type": "markdown",
      "source": [
        "### Statement of Optimization Model"
      ],
      "metadata": {
        "id": "1mw83JMbs4WG"
      }
    },
    {
      "cell_type": "markdown",
      "source": [
        "We now wish to solve the unconstrained optimization problem\n",
        "\\begin{align}\n",
        "\\min \\  &&& \\frac{1}{2} x^TQx + p^Tx\n",
        "\\end{align}\n",
        "where\n",
        "\\begin{equation}Q = \\left[ \\begin{array}{rr} 2 & -4\\\\ -4 & 2\\end{array} \\right], \\ p = \\left[\\begin{array}{r} 10 \\\\ 20 \\end{array} \\right], \\ x = \\left[\\begin{array}{r} x_1 \\\\ x_2 \\end{array} \\right].\\end{equation}\n",
        "\n",
        "We showed in Lesson 9 that this objective function is not convex."
      ],
      "metadata": {
        "id": "cvxs725RtBJf"
      }
    },
    {
      "cell_type": "markdown",
      "source": [
        "### Solve using CVXPY"
      ],
      "metadata": {
        "id": "r4-MCMXzs83N"
      }
    },
    {
      "cell_type": "code",
      "source": [
        "# Define the matrix Q and vector p\n",
        "Q = np.array([[2, -4],[-4, 2]])\n",
        "p = np.array([10, 20])"
      ],
      "metadata": {
        "id": "dIWXmgycsy1_"
      },
      "execution_count": null,
      "outputs": []
    },
    {
      "cell_type": "code",
      "source": [
        "#Build CVXPY model\n",
        "x = cp.Variable(2) # defines variables x[0] and x[1]\n",
        "obj = cp.Minimize(0.5*cp.quad_form(x,Q) + p.T @ x) # use @ for matrix-matrix multiplication\n",
        "constraints = [x[0] + x[1] >= 0.5, x[0] - 3*x[1] <= 0]\n",
        "prob = cp.Problem(obj, constraints)\n",
        "prob.solve()"
      ],
      "metadata": {
        "colab": {
          "base_uri": "https://localhost:8080/",
          "height": 415
        },
        "id": "CV2gCgCMvnEJ",
        "outputId": "6b33e8d4-eed2-42d2-e5a2-837d1001f636"
      },
      "execution_count": null,
      "outputs": [
        {
          "output_type": "error",
          "ename": "DCPError",
          "evalue": "ignored",
          "traceback": [
            "\u001b[0;31m---------------------------------------------------------------------------\u001b[0m",
            "\u001b[0;31mDCPError\u001b[0m                                  Traceback (most recent call last)",
            "\u001b[0;32m<ipython-input-18-b755d2b5877f>\u001b[0m in \u001b[0;36m<cell line: 6>\u001b[0;34m()\u001b[0m\n\u001b[1;32m      4\u001b[0m \u001b[0mconstraints\u001b[0m \u001b[0;34m=\u001b[0m \u001b[0;34m[\u001b[0m\u001b[0mx\u001b[0m\u001b[0;34m[\u001b[0m\u001b[0;36m0\u001b[0m\u001b[0;34m]\u001b[0m \u001b[0;34m+\u001b[0m \u001b[0mx\u001b[0m\u001b[0;34m[\u001b[0m\u001b[0;36m1\u001b[0m\u001b[0;34m]\u001b[0m \u001b[0;34m>=\u001b[0m \u001b[0;36m0.5\u001b[0m\u001b[0;34m,\u001b[0m \u001b[0mx\u001b[0m\u001b[0;34m[\u001b[0m\u001b[0;36m0\u001b[0m\u001b[0;34m]\u001b[0m \u001b[0;34m-\u001b[0m \u001b[0;36m3\u001b[0m\u001b[0;34m*\u001b[0m\u001b[0mx\u001b[0m\u001b[0;34m[\u001b[0m\u001b[0;36m1\u001b[0m\u001b[0;34m]\u001b[0m \u001b[0;34m<=\u001b[0m \u001b[0;36m0\u001b[0m\u001b[0;34m]\u001b[0m\u001b[0;34m\u001b[0m\u001b[0;34m\u001b[0m\u001b[0m\n\u001b[1;32m      5\u001b[0m \u001b[0mprob\u001b[0m \u001b[0;34m=\u001b[0m \u001b[0mcp\u001b[0m\u001b[0;34m.\u001b[0m\u001b[0mProblem\u001b[0m\u001b[0;34m(\u001b[0m\u001b[0mobj\u001b[0m\u001b[0;34m,\u001b[0m \u001b[0mconstraints\u001b[0m\u001b[0;34m)\u001b[0m\u001b[0;34m\u001b[0m\u001b[0;34m\u001b[0m\u001b[0m\n\u001b[0;32m----> 6\u001b[0;31m \u001b[0mprob\u001b[0m\u001b[0;34m.\u001b[0m\u001b[0msolve\u001b[0m\u001b[0;34m(\u001b[0m\u001b[0;34m)\u001b[0m\u001b[0;34m\u001b[0m\u001b[0;34m\u001b[0m\u001b[0m\n\u001b[0m",
            "\u001b[0;32m/usr/local/lib/python3.9/dist-packages/cvxpy/problems/problem.py\u001b[0m in \u001b[0;36msolve\u001b[0;34m(self, *args, **kwargs)\u001b[0m\n\u001b[1;32m    491\u001b[0m         \u001b[0;32melse\u001b[0m\u001b[0;34m:\u001b[0m\u001b[0;34m\u001b[0m\u001b[0;34m\u001b[0m\u001b[0m\n\u001b[1;32m    492\u001b[0m             \u001b[0msolve_func\u001b[0m \u001b[0;34m=\u001b[0m \u001b[0mProblem\u001b[0m\u001b[0;34m.\u001b[0m\u001b[0m_solve\u001b[0m\u001b[0;34m\u001b[0m\u001b[0;34m\u001b[0m\u001b[0m\n\u001b[0;32m--> 493\u001b[0;31m         \u001b[0;32mreturn\u001b[0m \u001b[0msolve_func\u001b[0m\u001b[0;34m(\u001b[0m\u001b[0mself\u001b[0m\u001b[0;34m,\u001b[0m \u001b[0;34m*\u001b[0m\u001b[0margs\u001b[0m\u001b[0;34m,\u001b[0m \u001b[0;34m**\u001b[0m\u001b[0mkwargs\u001b[0m\u001b[0;34m)\u001b[0m\u001b[0;34m\u001b[0m\u001b[0;34m\u001b[0m\u001b[0m\n\u001b[0m\u001b[1;32m    494\u001b[0m \u001b[0;34m\u001b[0m\u001b[0m\n\u001b[1;32m    495\u001b[0m     \u001b[0;34m@\u001b[0m\u001b[0mclassmethod\u001b[0m\u001b[0;34m\u001b[0m\u001b[0;34m\u001b[0m\u001b[0m\n",
            "\u001b[0;32m/usr/local/lib/python3.9/dist-packages/cvxpy/problems/problem.py\u001b[0m in \u001b[0;36m_solve\u001b[0;34m(self, solver, warm_start, verbose, gp, qcp, requires_grad, enforce_dpp, ignore_dpp, canon_backend, **kwargs)\u001b[0m\n\u001b[1;32m   1052\u001b[0m                 \u001b[0;32mreturn\u001b[0m \u001b[0mself\u001b[0m\u001b[0;34m.\u001b[0m\u001b[0mvalue\u001b[0m\u001b[0;34m\u001b[0m\u001b[0;34m\u001b[0m\u001b[0m\n\u001b[1;32m   1053\u001b[0m \u001b[0;34m\u001b[0m\u001b[0m\n\u001b[0;32m-> 1054\u001b[0;31m         data, solving_chain, inverse_data = self.get_problem_data(\n\u001b[0m\u001b[1;32m   1055\u001b[0m             \u001b[0msolver\u001b[0m\u001b[0;34m,\u001b[0m \u001b[0mgp\u001b[0m\u001b[0;34m,\u001b[0m \u001b[0menforce_dpp\u001b[0m\u001b[0;34m,\u001b[0m \u001b[0mignore_dpp\u001b[0m\u001b[0;34m,\u001b[0m \u001b[0mverbose\u001b[0m\u001b[0;34m,\u001b[0m \u001b[0mcanon_backend\u001b[0m\u001b[0;34m,\u001b[0m \u001b[0mkwargs\u001b[0m\u001b[0;34m\u001b[0m\u001b[0;34m\u001b[0m\u001b[0m\n\u001b[1;32m   1056\u001b[0m         )\n",
            "\u001b[0;32m/usr/local/lib/python3.9/dist-packages/cvxpy/problems/problem.py\u001b[0m in \u001b[0;36mget_problem_data\u001b[0;34m(self, solver, gp, enforce_dpp, ignore_dpp, verbose, canon_backend, solver_opts)\u001b[0m\n\u001b[1;32m    629\u001b[0m         \u001b[0;32mif\u001b[0m \u001b[0mkey\u001b[0m \u001b[0;34m!=\u001b[0m \u001b[0mself\u001b[0m\u001b[0;34m.\u001b[0m\u001b[0m_cache\u001b[0m\u001b[0;34m.\u001b[0m\u001b[0mkey\u001b[0m\u001b[0;34m:\u001b[0m\u001b[0;34m\u001b[0m\u001b[0;34m\u001b[0m\u001b[0m\n\u001b[1;32m    630\u001b[0m             \u001b[0mself\u001b[0m\u001b[0;34m.\u001b[0m\u001b[0m_cache\u001b[0m\u001b[0;34m.\u001b[0m\u001b[0minvalidate\u001b[0m\u001b[0;34m(\u001b[0m\u001b[0;34m)\u001b[0m\u001b[0;34m\u001b[0m\u001b[0;34m\u001b[0m\u001b[0m\n\u001b[0;32m--> 631\u001b[0;31m             solving_chain = self._construct_chain(\n\u001b[0m\u001b[1;32m    632\u001b[0m                 \u001b[0msolver\u001b[0m\u001b[0;34m=\u001b[0m\u001b[0msolver\u001b[0m\u001b[0;34m,\u001b[0m \u001b[0mgp\u001b[0m\u001b[0;34m=\u001b[0m\u001b[0mgp\u001b[0m\u001b[0;34m,\u001b[0m\u001b[0;34m\u001b[0m\u001b[0;34m\u001b[0m\u001b[0m\n\u001b[1;32m    633\u001b[0m                 \u001b[0menforce_dpp\u001b[0m\u001b[0;34m=\u001b[0m\u001b[0menforce_dpp\u001b[0m\u001b[0;34m,\u001b[0m\u001b[0;34m\u001b[0m\u001b[0;34m\u001b[0m\u001b[0m\n",
            "\u001b[0;32m/usr/local/lib/python3.9/dist-packages/cvxpy/problems/problem.py\u001b[0m in \u001b[0;36m_construct_chain\u001b[0;34m(self, solver, gp, enforce_dpp, ignore_dpp, canon_backend, solver_opts)\u001b[0m\n\u001b[1;32m    881\u001b[0m         \u001b[0mcandidate_solvers\u001b[0m \u001b[0;34m=\u001b[0m \u001b[0mself\u001b[0m\u001b[0;34m.\u001b[0m\u001b[0m_find_candidate_solvers\u001b[0m\u001b[0;34m(\u001b[0m\u001b[0msolver\u001b[0m\u001b[0;34m=\u001b[0m\u001b[0msolver\u001b[0m\u001b[0;34m,\u001b[0m \u001b[0mgp\u001b[0m\u001b[0;34m=\u001b[0m\u001b[0mgp\u001b[0m\u001b[0;34m)\u001b[0m\u001b[0;34m\u001b[0m\u001b[0;34m\u001b[0m\u001b[0m\n\u001b[1;32m    882\u001b[0m         \u001b[0mself\u001b[0m\u001b[0;34m.\u001b[0m\u001b[0m_sort_candidate_solvers\u001b[0m\u001b[0;34m(\u001b[0m\u001b[0mcandidate_solvers\u001b[0m\u001b[0;34m)\u001b[0m\u001b[0;34m\u001b[0m\u001b[0;34m\u001b[0m\u001b[0m\n\u001b[0;32m--> 883\u001b[0;31m         return construct_solving_chain(self, candidate_solvers, gp=gp,\n\u001b[0m\u001b[1;32m    884\u001b[0m                                        \u001b[0menforce_dpp\u001b[0m\u001b[0;34m=\u001b[0m\u001b[0menforce_dpp\u001b[0m\u001b[0;34m,\u001b[0m\u001b[0;34m\u001b[0m\u001b[0;34m\u001b[0m\u001b[0m\n\u001b[1;32m    885\u001b[0m                                        \u001b[0mignore_dpp\u001b[0m\u001b[0;34m=\u001b[0m\u001b[0mignore_dpp\u001b[0m\u001b[0;34m,\u001b[0m\u001b[0;34m\u001b[0m\u001b[0;34m\u001b[0m\u001b[0m\n",
            "\u001b[0;32m/usr/local/lib/python3.9/dist-packages/cvxpy/reductions/solvers/solving_chain.py\u001b[0m in \u001b[0;36mconstruct_solving_chain\u001b[0;34m(problem, candidates, gp, enforce_dpp, ignore_dpp, canon_backend, solver_opts)\u001b[0m\n\u001b[1;32m    182\u001b[0m     \u001b[0;32mif\u001b[0m \u001b[0mlen\u001b[0m\u001b[0;34m(\u001b[0m\u001b[0mproblem\u001b[0m\u001b[0;34m.\u001b[0m\u001b[0mvariables\u001b[0m\u001b[0;34m(\u001b[0m\u001b[0;34m)\u001b[0m\u001b[0;34m)\u001b[0m \u001b[0;34m==\u001b[0m \u001b[0;36m0\u001b[0m\u001b[0;34m:\u001b[0m\u001b[0;34m\u001b[0m\u001b[0;34m\u001b[0m\u001b[0m\n\u001b[1;32m    183\u001b[0m         \u001b[0;32mreturn\u001b[0m \u001b[0mSolvingChain\u001b[0m\u001b[0;34m(\u001b[0m\u001b[0mreductions\u001b[0m\u001b[0;34m=\u001b[0m\u001b[0;34m[\u001b[0m\u001b[0mConstantSolver\u001b[0m\u001b[0;34m(\u001b[0m\u001b[0;34m)\u001b[0m\u001b[0;34m]\u001b[0m\u001b[0;34m)\u001b[0m\u001b[0;34m\u001b[0m\u001b[0;34m\u001b[0m\u001b[0m\n\u001b[0;32m--> 184\u001b[0;31m     \u001b[0mreductions\u001b[0m \u001b[0;34m=\u001b[0m \u001b[0m_reductions_for_problem_class\u001b[0m\u001b[0;34m(\u001b[0m\u001b[0mproblem\u001b[0m\u001b[0;34m,\u001b[0m \u001b[0mcandidates\u001b[0m\u001b[0;34m,\u001b[0m \u001b[0mgp\u001b[0m\u001b[0;34m,\u001b[0m \u001b[0msolver_opts\u001b[0m\u001b[0;34m)\u001b[0m\u001b[0;34m\u001b[0m\u001b[0;34m\u001b[0m\u001b[0m\n\u001b[0m\u001b[1;32m    185\u001b[0m \u001b[0;34m\u001b[0m\u001b[0m\n\u001b[1;32m    186\u001b[0m     \u001b[0;31m# Process DPP status of the problem.\u001b[0m\u001b[0;34m\u001b[0m\u001b[0;34m\u001b[0m\u001b[0m\n",
            "\u001b[0;32m/usr/local/lib/python3.9/dist-packages/cvxpy/reductions/solvers/solving_chain.py\u001b[0m in \u001b[0;36m_reductions_for_problem_class\u001b[0;34m(problem, candidates, gp, solver_opts)\u001b[0m\n\u001b[1;32m    100\u001b[0m             append += (\"\\nHowever, the problem does follow DQCP rules. \"\n\u001b[1;32m    101\u001b[0m                        \"Consider calling solve() with `qcp=True`.\")\n\u001b[0;32m--> 102\u001b[0;31m         raise DCPError(\n\u001b[0m\u001b[1;32m    103\u001b[0m             \"Problem does not follow DCP rules. Specifically:\\n\" + append)\n\u001b[1;32m    104\u001b[0m     \u001b[0;32melif\u001b[0m \u001b[0mgp\u001b[0m \u001b[0;32mand\u001b[0m \u001b[0;32mnot\u001b[0m \u001b[0mproblem\u001b[0m\u001b[0;34m.\u001b[0m\u001b[0mis_dgp\u001b[0m\u001b[0;34m(\u001b[0m\u001b[0;34m)\u001b[0m\u001b[0;34m:\u001b[0m\u001b[0;34m\u001b[0m\u001b[0;34m\u001b[0m\u001b[0m\n",
            "\u001b[0;31mDCPError\u001b[0m: Problem does not follow DCP rules. Specifically:\nThe objective is not DCP. Its following subexpressions are not:\nQuadForm(var230, [[ 2. -4.]\n [-4.  2.]])"
          ]
        }
      ]
    },
    {
      "cell_type": "markdown",
      "source": [
        "# Example 4: Performing Sensitivity Analysis on a Parameter"
      ],
      "metadata": {
        "id": "0lpukJvvuvYD"
      }
    },
    {
      "cell_type": "markdown",
      "source": [
        "Reconsider the model from Example 2.  Previously, the right-hand side of constraint 1 was $\\color{red}{\\lambda} = 0.5$:\n",
        "\n",
        "\\begin{align}\n",
        "\\min \\  &&& 2x_1^2 - 6x_1x_2 + 12.5x_2^2 + 3x_1 - 5x_2 \\\\\n",
        "\\textrm{s.t.}\\ &&& x_1 + x_2 \\geq \\color{red}{\\lambda}\\\\\n",
        "&&& x_1 - 3x_2 \\leq 0\\\\\n",
        "&&& x_1, x_2 \\textrm{ unrestricted}\n",
        "\\end{align}\n",
        "\n",
        "Suppose we wish to solve the model for each $\\lambda$ in $\\{-1,-0.9,-0.8,\\ldots,0.8,0.9,1\\}$."
      ],
      "metadata": {
        "id": "OlGDjA80vEUb"
      }
    },
    {
      "cell_type": "markdown",
      "source": [
        "### Defining a CVXPY Parameter"
      ],
      "metadata": {
        "id": "97chogCV0EFp"
      }
    },
    {
      "cell_type": "code",
      "source": [
        "# Define the matrix Q and vector p\n",
        "Q = np.array([[4, -6],[-6, 25]])\n",
        "p = np.array([3, -5])\n",
        "\n",
        "#Build CVXPY model\n",
        "x = cp.Variable(2) # defines variables x[0] and x[1]\n",
        "obj = cp.Minimize(0.5*cp.quad_form(x,Q) + p.T @ x) # use @ for matrix-matrix multiplication"
      ],
      "metadata": {
        "id": "iz4iwjtUw3cn"
      },
      "execution_count": null,
      "outputs": []
    },
    {
      "cell_type": "markdown",
      "source": [
        "CVXPY problems are immutable, meaning a problem cannot be changed after it is constructed with \"cp.Problem()\".  To save us from having to define a new problem for each value of $\\lambda$, we can define $\\lambda$ as a parameter of the model.\n"
      ],
      "metadata": {
        "id": "PoskUKo-xEjs"
      }
    },
    {
      "cell_type": "code",
      "source": [
        "lam = cp.Parameter()\n",
        "constraints = [x[0] + x[1] >= lam, x[0] - 3*x[1] <= 0]\n",
        "prob = cp.Problem(obj, constraints)"
      ],
      "metadata": {
        "id": "ISe3g4iuwsWE"
      },
      "execution_count": null,
      "outputs": []
    },
    {
      "cell_type": "code",
      "source": [
        "lam.value = 0.5\n",
        "prob.solve()"
      ],
      "metadata": {
        "colab": {
          "base_uri": "https://localhost:8080/"
        },
        "id": "4GIhPEbIw4Fr",
        "outputId": "5d0fd56c-99eb-40b6-8330-5e06c9624f15"
      },
      "execution_count": null,
      "outputs": [
        {
          "output_type": "execute_result",
          "data": {
            "text/plain": [
              "-0.06097560975609739"
            ]
          },
          "metadata": {},
          "execution_count": 22
        }
      ]
    },
    {
      "cell_type": "markdown",
      "source": [
        "### Solving the Model and Plotting the Results"
      ],
      "metadata": {
        "id": "sBMar3rFz6j5"
      }
    },
    {
      "cell_type": "code",
      "source": [
        "lam_vals = np.linspace(-1,1,21)\n",
        "print(lam_vals)\n",
        "optimal_obj_vals = []\n",
        "for val in lam_vals:\n",
        "  lam.value = val\n",
        "  prob.solve()\n",
        "  optimal_obj_vals.append(prob.value)\n",
        "  #print(\"obj val: \", prob.value)\n",
        "\n",
        "print(optimal_obj_vals)"
      ],
      "metadata": {
        "id": "vTFhs-rU0Wrh",
        "colab": {
          "base_uri": "https://localhost:8080/"
        },
        "outputId": "461ad9b5-fb84-4145-b63b-f6808149f020"
      },
      "execution_count": null,
      "outputs": [
        {
          "output_type": "stream",
          "name": "stdout",
          "text": [
            "[-1.  -0.9 -0.8 -0.7 -0.6 -0.5 -0.4 -0.3 -0.2 -0.1  0.   0.1  0.2  0.3\n",
            "  0.4  0.5  0.6  0.7  0.8  0.9  1. ]\n",
            "[-1.1328124999877642, -1.1328125, -1.1328124999999998, -1.1328124999999998, -1.1287805373440414, -1.1097562623800972, -1.0751222119338892, -1.0248784053899167, -0.9590248427483834, -0.8775615240092889, -0.7804884491726332, -0.6678056182384159, -0.5395130312066384, -0.3956106880772997, -0.23609858885039958, -0.06097673352594002, 0.12975487789608087, 0.3360962454156655, 0.5580473690328078, 0.7956082487475127, 1.0487788845597763]\n"
          ]
        }
      ]
    },
    {
      "cell_type": "code",
      "source": [
        "import matplotlib.pyplot as plt"
      ],
      "metadata": {
        "id": "cRw0mis5y9lr"
      },
      "execution_count": null,
      "outputs": []
    },
    {
      "cell_type": "code",
      "source": [
        "plt.plot(lam_vals, optimal_obj_vals)\n",
        "#plt.xlabel($\\lambda$)"
      ],
      "metadata": {
        "colab": {
          "base_uri": "https://localhost:8080/",
          "height": 447
        },
        "id": "Qmdh8-m7yVkp",
        "outputId": "eaf5b470-7bf6-42ca-b6d0-fae0cf42fc8d"
      },
      "execution_count": null,
      "outputs": [
        {
          "output_type": "execute_result",
          "data": {
            "text/plain": [
              "[<matplotlib.lines.Line2D at 0x7f3e1e158880>]"
            ]
          },
          "metadata": {},
          "execution_count": 25
        },
        {
          "output_type": "display_data",
          "data": {
            "text/plain": [
              "<Figure size 640x480 with 1 Axes>"
            ],
            "image/png": "[encoded data removed]"
          },
          "metadata": {}
        }
      ]
    },
    {
      "cell_type": "markdown",
      "source": [
        "## Example 5: Least-Squares Regression"
      ],
      "metadata": {
        "id": "-_6VZW9kjW6S"
      }
    },
    {
      "cell_type": "markdown",
      "source": [
        "### Statement of Optimization Model"
      ],
      "metadata": {
        "id": "gcbxL0DYjYPa"
      }
    },
    {
      "cell_type": "markdown",
      "source": [
        "In this example, we formulate and solve a least-squares (linear) regression model using CVXPY.  That is, suppose we are given the following:\n",
        "\n",
        "*\t$m =$ number of data points observed (indexed by $i=1,2,\\ldots,m$)\n",
        "*\t$n =$ number of features (indexed by $j=1,2,\\ldots,n$)\n",
        "*\t$x_{ij}=$ value of feature $j$ in data point $i$\n",
        "*\t$y_i =$  response value for data point $i$\n",
        "\n",
        "We wish to find coefficients $\\beta_j$ ($j = 1,2,\\ldots,n$) and $b$ to solve the problem\n",
        "\n",
        "$$\\min_{b,\\beta} \\sum_{i = 1}^m \\left((b + \\sum_{j = 1}^n\\beta_jx_{ij})- y_i \\right)^2$$\n",
        "\n",
        "This problem is equivalent to\n",
        "\n",
        "$$\\min_{b,\\beta} \\|be + X\\beta -y \\|_2^2,$$\n",
        "\n",
        "where\n",
        "* $X$ is an $m \\times n$ matrix consisting of the $x_{ij}$-values\n",
        "* $y$ is an $m \\times 1$ vector (consisting of $y_1,y_2,\\ldots,y_m$)\n",
        "* $\\beta$ is an $n \\times 1$ vector (consisting of $\\beta_1,\\beta_2,\\ldots,\\beta_n$)\n",
        "* $e$ is an $m\\times1$ vector of ones\n",
        "* $b$ is a scalar decision variable"
      ],
      "metadata": {
        "id": "BRzLlCsBjaHt"
      }
    },
    {
      "cell_type": "markdown",
      "source": [
        "###Data"
      ],
      "metadata": {
        "id": "-5xc9H8RjcnH"
      }
    },
    {
      "cell_type": "markdown",
      "source": [
        "Example data (from p455 of Montgomery and Runger, 2011)"
      ],
      "metadata": {
        "id": "LRp01W3rjgeD"
      }
    },
    {
      "cell_type": "code",
      "source": [
        "# m = 25 data points\n",
        "# n = 2 features\n",
        "import numpy as np\n",
        "X = np.array([[2,50],[8,110],[11,120],[10,550],[8,295],[4,200],[2,375],[2,52],[9,100],[8,300],[4,412],[11,400],[12,500],[2,360],[4,205],[4,400],[20,600],[1,585],[10,540],[15,250],[15,290],[16,510],[17,590],[6,100],[5,400]])\n",
        "y = np.array([9.95, 24.45, 31.75, 35.00, 25.02, 16.86, 14.38, 9.60, 24.35, 27.50, 17.08, 37.00, 41.95, 11.66, 21.65, 17.89, 69.00, 10.30, 34.93, 46.59, 44.88, 54.12, 56.63, 22.13, 21.15])\n",
        "e = np.ones(25)"
      ],
      "metadata": {
        "id": "qK8NW7AkjiR_"
      },
      "execution_count": null,
      "outputs": []
    },
    {
      "cell_type": "code",
      "source": [
        "print(X)\n",
        "print(y)\n",
        "print(e)\n",
        "print(len(X))"
      ],
      "metadata": {
        "id": "w-NTok3Xjjtr",
        "colab": {
          "base_uri": "https://localhost:8080/"
        },
        "outputId": "e2818145-ac70-4bba-9b62-e3bd6d8216bc"
      },
      "execution_count": null,
      "outputs": [
        {
          "output_type": "stream",
          "name": "stdout",
          "text": [
            "[[  2  50]\n",
            " [  8 110]\n",
            " [ 11 120]\n",
            " [ 10 550]\n",
            " [  8 295]\n",
            " [  4 200]\n",
            " [  2 375]\n",
            " [  2  52]\n",
            " [  9 100]\n",
            " [  8 300]\n",
            " [  4 412]\n",
            " [ 11 400]\n",
            " [ 12 500]\n",
            " [  2 360]\n",
            " [  4 205]\n",
            " [  4 400]\n",
            " [ 20 600]\n",
            " [  1 585]\n",
            " [ 10 540]\n",
            " [ 15 250]\n",
            " [ 15 290]\n",
            " [ 16 510]\n",
            " [ 17 590]\n",
            " [  6 100]\n",
            " [  5 400]]\n",
            "[ 9.95 24.45 31.75 35.   25.02 16.86 14.38  9.6  24.35 27.5  17.08 37.\n",
            " 41.95 11.66 21.65 17.89 69.   10.3  34.93 46.59 44.88 54.12 56.63 22.13\n",
            " 21.15]\n",
            "[1. 1. 1. 1. 1. 1. 1. 1. 1. 1. 1. 1. 1. 1. 1. 1. 1. 1. 1. 1. 1. 1. 1. 1.\n",
            " 1.]\n",
            "25\n"
          ]
        }
      ]
    },
    {
      "cell_type": "markdown",
      "source": [
        "### Solve using CVXPY"
      ],
      "metadata": {
        "id": "To30ntSYjlTt"
      }
    },
    {
      "cell_type": "code",
      "source": [
        "b = cp.Variable()\n",
        "beta = cp.Variable(2)\n",
        "obj = cp.Minimize(cp.sum_squares(b*e + X@beta - y))\n",
        "prob = cp.Problem(obj)"
      ],
      "metadata": {
        "id": "7Pg1316EjnVz"
      },
      "execution_count": null,
      "outputs": []
    },
    {
      "cell_type": "code",
      "source": [
        "prob.solve()"
      ],
      "metadata": {
        "id": "7JOgfzuW75Od",
        "outputId": "cd630b8f-4e8f-4a51-c85b-a596457723cf",
        "colab": {
          "base_uri": "https://localhost:8080/"
        }
      },
      "execution_count": null,
      "outputs": [
        {
          "output_type": "execute_result",
          "data": {
            "text/plain": [
              "115.17348278044085"
            ]
          },
          "metadata": {},
          "execution_count": 29
        }
      ]
    },
    {
      "cell_type": "code",
      "source": [
        "print(\"Status: \", prob.status)\n",
        "print(\"Optimal Value: \", prob.value)\n",
        "print(\"b: \",b.value)\n",
        "print(\"beta: \",beta.value)"
      ],
      "metadata": {
        "colab": {
          "base_uri": "https://localhost:8080/"
        },
        "id": "YskHLbs_7UzP",
        "outputId": "ee3fc54d-ac39-4387-9b99-5177065b6f36"
      },
      "execution_count": null,
      "outputs": [
        {
          "output_type": "stream",
          "name": "stdout",
          "text": [
            "Status:  optimal\n",
            "Optimal Value:  115.17348278044085\n",
            "b:  2.2637914344048182\n",
            "beta:  [2.74426964 0.01252781]\n"
          ]
        }
      ]
    }
  ]
}